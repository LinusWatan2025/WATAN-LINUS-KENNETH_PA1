{
 "cells": [
  {
   "cell_type": "code",
   "execution_count": 20,
   "id": "9a768ad1-7d65-4653-9484-8be4a256dcd3",
   "metadata": {},
   "outputs": [
    {
     "name": "stdin",
     "output_type": "stream",
     "text": [
      "Enter a string:  qwertyuiasdfghj\n"
     ]
    },
    {
     "name": "stdout",
     "output_type": "stream",
     "text": [
      "Alphabetized form:  adefghijqrstuwy\n"
     ]
    }
   ],
   "source": [
    "#defining the function\n",
    "def a(word):\n",
    "    #using sorting function and return the alphabetized/sorted string\n",
    "    return \"\".join(sorted(word))\n",
    "\n",
    "#user inputs a string\n",
    "w = input(\"Enter a string: \")\n",
    "#the program calls the function\n",
    "r = a(w)\n",
    "\n",
    "#the program outputs the alphabetized form\n",
    "print(\"Alphabetized form: \", r)"
   ]
  },
  {
   "cell_type": "code",
   "execution_count": 23,
   "id": "75fa7f93-6edd-4112-8ae9-66838f8f85ca",
   "metadata": {},
   "outputs": [
    {
     "name": "stdin",
     "output_type": "stream",
     "text": [
      "Enter a sentence:  i'm sad but i still smile\n"
     ]
    },
    {
     "name": "stdout",
     "output_type": "stream",
     "text": [
      "Converted sentence: i'm :( but i still :)\n"
     ]
    }
   ],
   "source": [
    "#defining the function\n",
    "def emotify(s):\n",
    "    #dictionary assigning the given word to emoticons\n",
    "    e = {\n",
    "        \"smile\": \":)\",\n",
    "        \"grin\": \":D\",\n",
    "        \"sad\": \":(\",\n",
    "        \"mad\": \">:(\"\n",
    "    }\n",
    "    #loop to replace word in the given sentence\n",
    "    for word, icon in e.items():\n",
    "        #function that replaces the word to the assigned emoticon\n",
    "        s = s.replace(word, icon)\n",
    "    #returns the updated the sentence\n",
    "    return s\n",
    "\n",
    "#main program\n",
    "#user inputs a sentence\n",
    "i = input(\"Enter a sentence: \")\n",
    "r = emotify(i)\n",
    "\n",
    "#the programs calls the function and converts the words with their assigned emoticon\n",
    "print(\"Converted sentence:\", r)"
   ]
  },
  {
   "cell_type": "code",
   "execution_count": 24,
   "id": "3acdc361-43ae-4ef9-a4b6-cac7a974ad3d",
   "metadata": {},
   "outputs": [
    {
     "name": "stdin",
     "output_type": "stream",
     "text": [
      "Enter list separated by spaces:  4 5 6 7 8 9 10\n"
     ]
    },
    {
     "name": "stdout",
     "output_type": "stream",
     "text": [
      "first: 4\n",
      "middle: [5, 6, 7, 8, 9]\n",
      "last: 10\n"
     ]
    }
   ],
   "source": [
    "#user inputs list separated by spaces\n",
    "i = input(\"Enter list separated by spaces: \")\n",
    "\n",
    "#split input into a list\n",
    "list = i.split()\n",
    "#converts the string into integers\n",
    "l = map(int, list)\n",
    "\n",
    "#unpack into first, middle, and last\n",
    "first, *middle, last = l\n",
    "\n",
    "#print results\n",
    "print(\"first:\", first)\n",
    "print(\"middle:\", middle)\n",
    "print(\"last:\", last)"
   ]
  },
  {
   "cell_type": "code",
   "execution_count": null,
   "id": "7901bd57-d60b-49b6-98ad-095579694dad",
   "metadata": {},
   "outputs": [],
   "source": []
  }
 ],
 "metadata": {
  "kernelspec": {
   "display_name": "Python 3 (ipykernel)",
   "language": "python",
   "name": "python3"
  },
  "language_info": {
   "codemirror_mode": {
    "name": "ipython",
    "version": 3
   },
   "file_extension": ".py",
   "mimetype": "text/x-python",
   "name": "python",
   "nbconvert_exporter": "python",
   "pygments_lexer": "ipython3",
   "version": "3.13.5"
  }
 },
 "nbformat": 4,
 "nbformat_minor": 5
}
